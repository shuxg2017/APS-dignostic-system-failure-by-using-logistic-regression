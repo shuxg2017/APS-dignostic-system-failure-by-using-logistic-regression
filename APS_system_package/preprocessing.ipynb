{
 "cells": [
  {
   "cell_type": "code",
   "execution_count": null,
   "metadata": {},
   "outputs": [],
   "source": [
    "import numpy as np"
   ]
  },
  {
   "cell_type": "code",
   "execution_count": null,
   "metadata": {},
   "outputs": [],
   "source": [
    "class Standardization():\n",
    "    '''(X - mean)/std'''\n",
    "    def __init__(self, X):\n",
    "        self.std = np.std(X, 0)\n",
    "        self.mean = np.mean(X, 0)\n",
    "    \n",
    "    def fit(self, X, eposilon = 1e-8):\n",
    "        X_ = X.copy()\n",
    "        X_ = (X_ - self.mean)/(self.std + eposilon)\n",
    "        return X_\n",
    "\n",
    "class MeanNormalization():\n",
    "    '''(X - mean)/(max - min)'''\n",
    "    def __init__(self, X):\n",
    "        self.max = np.max(X, 0)\n",
    "        self.min = np.min(X, 0)\n",
    "        self.mean = np.mean(X, 0)\n",
    "    \n",
    "    def fit(self, X, eposilon = 1e-8):\n",
    "        X_ = X.copy()\n",
    "        X_ = (X_ - self.mean)/(self.max - self.min + eposilon)\n",
    "        return X_\n",
    "\n",
    "class MaxMinNormalization():\n",
    "    '''(X - min)/(max - min)'''\n",
    "    def __init__(self, X):\n",
    "        self.max = np.max(X, 0)\n",
    "        self.min = np.min(X, 0)\n",
    "    \n",
    "    def fit(self, X, eposilon = 1e-8):\n",
    "        X_ = X.copy()\n",
    "        X_ = (X_ - self.min)/(self.max - self.min + eposilon)\n",
    "        return X_"
   ]
  },
  {
   "cell_type": "code",
   "execution_count": null,
   "metadata": {},
   "outputs": [],
   "source": []
  }
 ],
 "metadata": {
  "kernelspec": {
   "display_name": "Python 3",
   "language": "python",
   "name": "python3"
  },
  "language_info": {
   "codemirror_mode": {
    "name": "ipython",
    "version": 3
   },
   "file_extension": ".py",
   "mimetype": "text/x-python",
   "name": "python",
   "nbconvert_exporter": "python",
   "pygments_lexer": "ipython3",
   "version": "3.7.6"
  }
 },
 "nbformat": 4,
 "nbformat_minor": 4
}
