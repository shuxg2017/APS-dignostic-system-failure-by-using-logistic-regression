{
 "cells": [
  {
   "cell_type": "code",
   "execution_count": null,
   "metadata": {},
   "outputs": [],
   "source": [
    "import pandas as pd\n",
    "import numpy as np\n",
    "import matplotlib.pyplot as plt"
   ]
  },
  {
   "cell_type": "code",
   "execution_count": 1,
   "metadata": {},
   "outputs": [],
   "source": [
    "''' Performance Functions '''\n",
    "\n",
    "def accuracy(y, y_hat):\n",
    "    return np.mean(y == y_hat)\n",
    "\n",
    "def confusion_matrix(y, y_hat):\n",
    "    \n",
    "    n_pos = len(y[y == 1])\n",
    "    n_neg = len(y[y == 0])\n",
    "    e11 = np.sum(y_hat[y == 1] == 1)\n",
    "    e21 = n_pos - e11\n",
    "    e22 = np.sum(y_hat[y == 0] == 0)\n",
    "    e12 = n_neg - e22\n",
    "    cm_df = pd.DataFrame({'Actual Pos': [e11, e21], 'Actual Neg': [e12, e22]})\n",
    "    return cm_df.rename(index = {0: 'Pred Pos', 1: 'Pred Neg'})\n",
    "\n",
    "def tpr_fpr(X, y, model, step_thresh = 50, show_curve = False):\n",
    "    threshs = np.linspace(0., 1., step_thresh)\n",
    "    TPR = np.zeros(step_thresh)\n",
    "    FPR = np.zeros(step_thresh)\n",
    "    for i in range(step_thresh):\n",
    "        y_hat = model.predict(X, thresh = threshs[i])\n",
    "        M = confusion_matrix(y, y_hat).to_numpy()\n",
    "        TPR[i] = M[0, 0]/(M[0, 0] + M[1, 0])\n",
    "        FPR[i] = M[0, 1]/(M[1, 1] + M[0, 1])\n",
    "    if show_curve:\n",
    "        plt.plot(FPR, TPR)\n",
    "        plt.xlabel('FPR'); plt.ylabel('TPR')\n",
    "        plt.title('FPR vs TPR', fontsize = 15)\n",
    "    return {'TPR': TPR, 'FPR': FPR, 'Threshold': threshs}\n",
    "\n",
    "def min_cost_threshold(X, y, model, step_thresh = 50):\n",
    "    threshs = np.linspace(0., 1., step_thresh)\n",
    "    cost = np.zeros(step_thresh)\n",
    "    for i in range(step_thresh):\n",
    "        y_hat = model.predict(X, thresh = threshs[i])\n",
    "        M = confusion_matrix(y, y_hat).to_numpy()\n",
    "        cost[i] = 500 * M[1, 0] + 10 * M[0, 1]\n",
    "    return np.min(cost), threshs[np.argmin(cost)]"
   ]
  },
  {
   "cell_type": "code",
   "execution_count": null,
   "metadata": {},
   "outputs": [],
   "source": []
  }
 ],
 "metadata": {
  "kernelspec": {
   "display_name": "Python 3",
   "language": "python",
   "name": "python3"
  },
  "language_info": {
   "codemirror_mode": {
    "name": "ipython",
    "version": 3
   },
   "file_extension": ".py",
   "mimetype": "text/x-python",
   "name": "python",
   "nbconvert_exporter": "python",
   "pygments_lexer": "ipython3",
   "version": "3.7.6"
  }
 },
 "nbformat": 4,
 "nbformat_minor": 4
}
