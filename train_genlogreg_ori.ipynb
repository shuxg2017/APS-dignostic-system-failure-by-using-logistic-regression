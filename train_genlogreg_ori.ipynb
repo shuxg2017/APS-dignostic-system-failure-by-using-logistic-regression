{
 "cells": [
  {
   "cell_type": "code",
   "execution_count": 1,
   "metadata": {},
   "outputs": [
    {
     "name": "stdout",
     "output_type": "stream",
     "text": [
      "importing Jupyter notebook from C:\\Users\\shuxg\\Desktop\\EIT\\Proj 4 - Logistic\\APS_system_package\\data_clean.ipynb\n",
      "importing Jupyter notebook from C:\\Users\\shuxg\\Desktop\\EIT\\Proj 4 - Logistic\\APS_system_package\\preprocessing.ipynb\n",
      "importing Jupyter notebook from C:\\Users\\shuxg\\Desktop\\EIT\\Proj 4 - Logistic\\APS_system_package\\logistic_regressions.ipynb\n",
      "importing Jupyter notebook from C:\\Users\\shuxg\\Desktop\\EIT\\Proj 4 - Logistic\\APS_system_package\\performance_measure.ipynb\n"
     ]
    }
   ],
   "source": [
    "import import_ipynb\n",
    "import pandas as pd\n",
    "from APS_system_package.data_clean import train_data_clean, test_data_clean, test_data_clean_v2\n",
    "from APS_system_package.preprocessing import *\n",
    "from APS_system_package.logistic_regressions import *\n",
    "from APS_system_package.performance_measure import *\n",
    "import seaborn as sns\n",
    "sns.set()\n",
    "import time"
   ]
  },
  {
   "cell_type": "markdown",
   "metadata": {},
   "source": [
    "## load ori dataset"
   ]
  },
  {
   "cell_type": "code",
   "execution_count": 2,
   "metadata": {},
   "outputs": [
    {
     "name": "stdout",
     "output_type": "stream",
     "text": [
      "Nan: 0\n",
      "Nan: 0\n",
      "Nan: 0\n"
     ]
    }
   ],
   "source": [
    "df_trn = train_data_clean('train.csv', 'median')\n",
    "df_val = test_data_clean('test.csv', 'train.csv', 'median')"
   ]
  },
  {
   "cell_type": "code",
   "execution_count": 3,
   "metadata": {},
   "outputs": [
    {
     "data": {
      "text/plain": [
       "(60000, 171)"
      ]
     },
     "execution_count": 3,
     "metadata": {},
     "output_type": "execute_result"
    }
   ],
   "source": [
    "df_trn.shape"
   ]
  },
  {
   "cell_type": "markdown",
   "metadata": {},
   "source": [
    "## Preprocess"
   ]
  },
  {
   "cell_type": "markdown",
   "metadata": {},
   "source": [
    "**convert dataframe to numpy**"
   ]
  },
  {
   "cell_type": "code",
   "execution_count": 4,
   "metadata": {},
   "outputs": [],
   "source": [
    "data_trn = df_trn.to_numpy()\n",
    "data_val = df_val.to_numpy()\n",
    "\n",
    "X_trn, y_trn = data_trn[:, 1:], data_trn[:, 0]\n",
    "X_val, y_val = data_val[:, 1:], data_val[:, 0]\n",
    "\n",
    "normalizer = MaxMinNormalization(X_trn)\n",
    "\n",
    "X_trn = normalizer.fit(X_trn)\n",
    "X_val = normalizer.fit(X_val)"
   ]
  },
  {
   "cell_type": "markdown",
   "metadata": {},
   "source": [
    "**oversampling train data (only in positive case)**"
   ]
  },
  {
   "cell_type": "code",
   "execution_count": 5,
   "metadata": {},
   "outputs": [],
   "source": [
    "positive_case = X_trn[y_trn == 1]\n",
    "positive_labl = y_trn[y_trn == 1]\n",
    "X_pos_oversample = positive_case.copy()\n",
    "y_pos_oversample = positive_labl.copy()\n",
    "M = 59\n",
    "for m in range(M):\n",
    "    X_pos_oversample = np.vstack((X_pos_oversample, positive_case))\n",
    "    y_pos_oversample = np.hstack((y_pos_oversample, positive_labl))\n",
    "X_POS = np.hstack((X_pos_oversample, y_pos_oversample.reshape(-1, 1)))"
   ]
  },
  {
   "cell_type": "code",
   "execution_count": 6,
   "metadata": {},
   "outputs": [],
   "source": [
    "Data_oversample = np.vstack((X_POS, np.hstack((X_trn, y_trn.reshape(-1, 1)))))"
   ]
  },
  {
   "cell_type": "markdown",
   "metadata": {},
   "source": [
    "**randomly shuffle oversampled data**"
   ]
  },
  {
   "cell_type": "code",
   "execution_count": 7,
   "metadata": {},
   "outputs": [],
   "source": [
    "np.random.shuffle(Data_oversample)\n",
    "X_oversample, y_oversample = X_trn, y_trn = Data_oversample[:, :-1], Data_oversample[:, -1]"
   ]
  },
  {
   "cell_type": "markdown",
   "metadata": {},
   "source": [
    "## Model"
   ]
  },
  {
   "cell_type": "code",
   "execution_count": 8,
   "metadata": {},
   "outputs": [],
   "source": [
    "class GenLogisticRegression():\n",
    "    \n",
    "    def __init__(self, X, y):        \n",
    "        N, D = X.shape\n",
    "        K = len(np.unique(y))\n",
    "        self.w = np.random.randn(D, K)\n",
    "        self.b = np.random.randn(K)\n",
    "    \n",
    "    def fit(self, X_trn, y_trn,\n",
    "            X_val, y_val,\n",
    "            lr = 1e-1, epochs = 1e3,\n",
    "            show_curve = False, verbose = 0):\n",
    "        # set them to integer\n",
    "        epochs = int(epochs)\n",
    "        y_trn = y_trn.astype(int)\n",
    "        y_val = y_val.astype(int)\n",
    "        # class number\n",
    "        K = len(np.unique(y_trn))\n",
    "        N, D = X_trn.shape\n",
    "        Y_trn = indices_to_one_hot(y_trn, K).astype(int)\n",
    "        Y_val = indices_to_one_hot(y_val, K).astype(int)\n",
    "        \n",
    "        J_trn = np.zeros(epochs) # train loss\n",
    "        J_val = np.zeros(epochs) # validation loss\n",
    "        \n",
    "        for epoch in range(epochs): # start to train\n",
    "            # get probability for cross entropy\n",
    "            P_hat = self.__forward__(X_trn)\n",
    "            # record training process\n",
    "            J_trn[epoch] = cross_entropy(Y_trn, P_hat)\n",
    "            J_val[epoch] = cross_entropy(Y_val, self.__forward__(X_val))\n",
    "            # weights update\n",
    "            self.w -= lr*(1/N)*X_trn.T@(P_hat - Y_trn)\n",
    "            self.b -= lr*(1/N)*np.sum(P_hat - Y_trn, axis = 0)\n",
    "            # print progress\n",
    "            if verbose == 1:\n",
    "                if epoch % 50 == 0:\n",
    "                    print('Epoch: {}, train error: {:.4f}, validation error: {:.4f}'.\\\n",
    "                          format(epoch, J_trn[epoch], J_val[epoch]))\n",
    "                    print(accuracy(y_trn, self.predict(X_trn)))\n",
    "            else:\n",
    "                pass\n",
    "        # plot curve\n",
    "        if show_curve:\n",
    "            plt.figure(figsize = (15, 6))\n",
    "            # train plot\n",
    "            plt.subplot(121); plt.plot(J_trn)\n",
    "            plt.xlabel('epochs'); plt.ylabel('$\\mathcal{J}$')\n",
    "            plt.title('Training Curve', fontsize = 15)\n",
    "            # valid plot\n",
    "            plt.subplot(122); plt.plot(J_val)\n",
    "            plt.xlabel('epochs'); plt.ylabel('$\\mathcal{J}$')\n",
    "            plt.title('Validation Curve', fontsize = 15)\n",
    "        # return training process\n",
    "        return {'J_trn': J_trn, 'J_val': J_val}\n",
    "    \n",
    "    def __forward__(self, X):\n",
    "        return softmax(X@self.w + self.b)\n",
    "        \n",
    "    def predict(self, X):\n",
    "        return np.argmax(self.__forward__(X), axis = 1)\n",
    "\n",
    "'''Assistant Function'''\n",
    "def accuracy(y, y_hat):\n",
    "    return np.mean(y == y_hat)\n",
    "\n",
    "def softmax(h):\n",
    "    return (np.exp(h.T)/np.sum(np.exp(h), axis = 1)).T\n",
    "\n",
    "def indices_to_one_hot(data, nb_classes):\n",
    "    targets = np.array(data).reshape(-1)\n",
    "    return np.eye(nb_classes)[targets]\n",
    "\n",
    "\n",
    "def cross_entropy(y, P_hat):\n",
    "    return -(1/len(y)) * np.sum(np.sum(y*np.log(P_hat), axis = 1), axis = 0)"
   ]
  },
  {
   "cell_type": "markdown",
   "metadata": {},
   "source": [
    "**build model**"
   ]
  },
  {
   "cell_type": "code",
   "execution_count": 9,
   "metadata": {},
   "outputs": [],
   "source": [
    "model = GenLogisticRegression(X_oversample, y_oversample)\n",
    "J_trn = np.zeros(1)\n",
    "J_val = np.zeros(1)\n",
    "pos_acc_trn = np.zeros(1)\n",
    "neg_acc_trn = np.zeros(1)\n",
    "pos_acc_val = np.zeros(1)\n",
    "neg_acc_val = np.zeros(1)"
   ]
  },
  {
   "cell_type": "markdown",
   "metadata": {},
   "source": [
    "**train model**"
   ]
  },
  {
   "cell_type": "code",
   "execution_count": 28,
   "metadata": {
    "scrolled": true
   },
   "outputs": [
    {
     "name": "stdout",
     "output_type": "stream",
     "text": [
      "EPOCH: 0\n",
      "trn loss: 0.20528, val loss 0.20862\n",
      "trn pos acc: 0.92, trn neg acc 0.96\n",
      "val pos acc: 0.89, val neg acc 0.96\n",
      "trn cost: 61630, val cost: 26890\n",
      "time: 0.30 s\n",
      "----------------------------------------\n"
     ]
    }
   ],
   "source": [
    "start = time.time()\n",
    "for epoch in range(50000):\n",
    "    J = model.fit(X_oversample, y_oversample, X_val, y_val, lr = 1e-4, epochs = 1, show_curve = False)\n",
    "    # save loss\n",
    "    J_trn = np.hstack((J_trn, J['J_trn']))\n",
    "    J_val = np.hstack((J_val, J['J_val']))\n",
    "    # save accs\n",
    "    pos_acc_trn = np.hstack((pos_acc_trn, accuracy(model.predict(X_trn[y_trn == 1]), y_trn[y_trn == 1])))\n",
    "    neg_acc_trn = np.hstack((neg_acc_trn, accuracy(model.predict(X_trn[y_trn == 0]), y_trn[y_trn == 0])))\n",
    "    pos_acc_val = np.hstack((pos_acc_val, accuracy(model.predict(X_val[y_val == 1]), y_val[y_val == 1])))\n",
    "    neg_acc_val = np.hstack((neg_acc_val, accuracy(model.predict(X_val[y_val == 0]), y_val[y_val == 0])))\n",
    "    # print process\n",
    "    if epoch % 200 == 0:\n",
    "        end = time.time() - start\n",
    "        print('EPOCH: {}'.format(epoch))\n",
    "        print('trn loss: {:.5f}, val loss {:.5f}'.format(J_trn[-1], J_val[-1]))\n",
    "        print('trn pos acc: {:.2f}, trn neg acc {:.2f}'.format(pos_acc_trn[-1], neg_acc_trn[-1]))\n",
    "        print('val pos acc: {:.2f}, val neg acc {:.2f}'.format(pos_acc_val[-1], neg_acc_val[-1]))\n",
    "        cost1 = (1 - pos_acc_trn[-1])*1000*500 + (1 - neg_acc_trn[-1])*59000*10\n",
    "        cost2 = (1 - pos_acc_val[-1])*375*500 + (1 - neg_acc_val[-1])*15625*10\n",
    "        print('trn cost: {:.0f}, val cost: {:.0f}'.format(cost1, cost2))\n",
    "        print('time: {:.2f} s'.format((end)))\n",
    "        start = time.time()\n",
    "        print('----------------------------------------')\n",
    "    if pos_acc_val[-1] >= 0.96:\n",
    "        file_weights = 'ori_GenLogReg_weights'\n",
    "        file_biases  = 'ori_GenLogReg_biases'\n",
    "        np.save(file_weights, model.w)\n",
    "        np.save(file_biases,  model.b)\n",
    "        print('--------------SAVED !!!----------------')\n",
    "        break"
   ]
  },
  {
   "cell_type": "code",
   "execution_count": 29,
   "metadata": {},
   "outputs": [
    {
     "name": "stdout",
     "output_type": "stream",
     "text": [
      "trn cost: 61630, val cost: 26890\n"
     ]
    }
   ],
   "source": [
    "print('trn cost: {:.0f}, val cost: {:.0f}'.format(cost1, cost2))"
   ]
  },
  {
   "cell_type": "markdown",
   "metadata": {},
   "source": [
    "## Result\n",
    "**the final train cost: 61630** <br>\n",
    "**the final test cost:  26890**"
   ]
  },
  {
   "cell_type": "markdown",
   "metadata": {},
   "source": [
    "#### save weights for later training"
   ]
  },
  {
   "cell_type": "code",
   "execution_count": 30,
   "metadata": {},
   "outputs": [],
   "source": [
    "file_weights = 'ori_GenLogReg_weights'\n",
    "file_biases  = 'ori_GenLogReg_biases'"
   ]
  },
  {
   "cell_type": "code",
   "execution_count": 31,
   "metadata": {},
   "outputs": [],
   "source": [
    "np.save(file_weights, model.w)\n",
    "np.save(file_biases,  model.b)"
   ]
  },
  {
   "cell_type": "markdown",
   "metadata": {},
   "source": [
    "**plots**"
   ]
  },
  {
   "cell_type": "code",
   "execution_count": 32,
   "metadata": {},
   "outputs": [
    {
     "data": {
      "text/plain": [
       "Text(0.5, 1.0, 'Loss')"
      ]
     },
     "execution_count": 32,
     "metadata": {},
     "output_type": "execute_result"
    },
    {
     "data": {
      "image/png": "[encoded data removed]",
      "text/plain": [
       "<Figure size 720x432 with 1 Axes>"
      ]
     },
     "metadata": {},
     "output_type": "display_data"
    }
   ],
   "source": [
    "plt.figure(figsize = (10, 6))\n",
    "plt.plot(J_trn[1:])\n",
    "plt.plot(J_val[1:])\n",
    "plt.xlabel('epochs', fontsize = 15)\n",
    "plt.ylabel('loss', fontsize = 15)\n",
    "plt.legend(['J_trn', 'J_val'], fontsize = 20)\n",
    "plt.title('Loss', fontsize = 20)"
   ]
  },
  {
   "cell_type": "code",
   "execution_count": 33,
   "metadata": {},
   "outputs": [
    {
     "data": {
      "text/plain": [
       "Text(0.5, 1.0, 'Trn Acc')"
      ]
     },
     "execution_count": 33,
     "metadata": {},
     "output_type": "execute_result"
    },
    {
     "data": {
      "image/png": "[encoded data removed]",
      "text/plain": [
       "<Figure size 720x432 with 1 Axes>"
      ]
     },
     "metadata": {},
     "output_type": "display_data"
    }
   ],
   "source": [
    "plt.figure(figsize = (10, 6))\n",
    "plt.plot(pos_acc_trn[1:])\n",
    "plt.plot(neg_acc_trn[1:])\n",
    "plt.xlabel('epochs', fontsize = 15)\n",
    "plt.ylabel('trn acc', fontsize = 15)\n",
    "plt.legend(['pos_acc_trn', 'neg_acc_trn'], fontsize = 20)\n",
    "plt.title('Trn Acc', fontsize = 20)"
   ]
  },
  {
   "cell_type": "code",
   "execution_count": 34,
   "metadata": {},
   "outputs": [
    {
     "data": {
      "text/plain": [
       "Text(0.5, 1.0, 'Val Acc')"
      ]
     },
     "execution_count": 34,
     "metadata": {},
     "output_type": "execute_result"
    },
    {
     "data": {
      "image/png": "[encoded data removed]",
      "text/plain": [
       "<Figure size 720x432 with 1 Axes>"
      ]
     },
     "metadata": {},
     "output_type": "display_data"
    }
   ],
   "source": [
    "plt.figure(figsize = (10, 6))\n",
    "plt.plot(pos_acc_val[1:])\n",
    "plt.plot(neg_acc_val[1:])\n",
    "plt.xlabel('epochs', fontsize = 15)\n",
    "plt.ylabel('trn acc', fontsize = 15)\n",
    "plt.legend(['pos_acc_val', 'neg_acc_val'], fontsize = 20)\n",
    "plt.title('Val Acc', fontsize = 20)"
   ]
  },
  {
   "cell_type": "code",
   "execution_count": null,
   "metadata": {},
   "outputs": [],
   "source": []
  },
  {
   "cell_type": "code",
   "execution_count": null,
   "metadata": {},
   "outputs": [],
   "source": []
  }
 ],
 "metadata": {
  "kernelspec": {
   "display_name": "Python 3",
   "language": "python",
   "name": "python3"
  },
  "language_info": {
   "codemirror_mode": {
    "name": "ipython",
    "version": 3
   },
   "file_extension": ".py",
   "mimetype": "text/x-python",
   "name": "python",
   "nbconvert_exporter": "python",
   "pygments_lexer": "ipython3",
   "version": "3.7.6"
  }
 },
 "nbformat": 4,
 "nbformat_minor": 4
}
