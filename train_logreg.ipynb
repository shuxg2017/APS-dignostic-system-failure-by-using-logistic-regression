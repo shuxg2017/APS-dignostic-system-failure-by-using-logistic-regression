{
 "cells": [
  {
   "cell_type": "code",
   "execution_count": 1,
   "metadata": {},
   "outputs": [
    {
     "name": "stdout",
     "output_type": "stream",
     "text": [
      "importing Jupyter notebook from C:\\Users\\shuxg\\Desktop\\EIT\\Proj 4 - Logistic\\APS_system_package\\data_clean.ipynb\n",
      "importing Jupyter notebook from C:\\Users\\shuxg\\Desktop\\EIT\\Proj 4 - Logistic\\APS_system_package\\preprocessing.ipynb\n",
      "importing Jupyter notebook from C:\\Users\\shuxg\\Desktop\\EIT\\Proj 4 - Logistic\\APS_system_package\\logistic_regressions.ipynb\n",
      "importing Jupyter notebook from C:\\Users\\shuxg\\Desktop\\EIT\\Proj 4 - Logistic\\APS_system_package\\performance_measure.ipynb\n"
     ]
    }
   ],
   "source": [
    "import import_ipynb\n",
    "import pandas as pd\n",
    "from APS_system_package.data_clean import train_data_clean, test_data_clean, test_data_clean_v2\n",
    "from APS_system_package.preprocessing import *\n",
    "from APS_system_package.logistic_regressions import *\n",
    "from APS_system_package.performance_measure import *\n",
    "import seaborn as sns\n",
    "sns.set()\n",
    "import time"
   ]
  },
  {
   "cell_type": "markdown",
   "metadata": {},
   "source": [
    "**load dataframes**"
   ]
  },
  {
   "cell_type": "code",
   "execution_count": 10,
   "metadata": {},
   "outputs": [
    {
     "name": "stdout",
     "output_type": "stream",
     "text": [
      "Nan: 0\n"
     ]
    }
   ],
   "source": [
    "df_trn = pd.read_csv('cleaned_train.csv')\n",
    "df_val = test_data_clean_v2('test.csv', df_trn, 'median')"
   ]
  },
  {
   "cell_type": "markdown",
   "metadata": {},
   "source": [
    "**preprocessing**"
   ]
  },
  {
   "cell_type": "code",
   "execution_count": 11,
   "metadata": {},
   "outputs": [],
   "source": [
    "data_trn = df_trn.to_numpy()\n",
    "X_trn, y_trn = data_trn[:, 1:], data_trn[:, 0]\n",
    "normalizer = MaxMinNormalization(X_trn)\n",
    "X_trn = normalizer.fit(X_trn)\n",
    "\n",
    "data_val = df_val.to_numpy()\n",
    "X_val, y_val = data_val[:, 1:], data_val[:, 0]\n",
    "X_val = normalizer.fit(X_val)"
   ]
  },
  {
   "cell_type": "markdown",
   "metadata": {},
   "source": [
    "**build model**"
   ]
  },
  {
   "cell_type": "code",
   "execution_count": 12,
   "metadata": {},
   "outputs": [],
   "source": [
    "model = WeightedLogisticRegression(X_trn.shape[1])\n",
    "J_trn = np.zeros(1)\n",
    "J_val = np.zeros(1)\n",
    "cost_trn = np.zeros(1)\n",
    "cost_val = np.zeros(1)"
   ]
  },
  {
   "cell_type": "markdown",
   "metadata": {},
   "source": [
    "**train model**"
   ]
  },
  {
   "cell_type": "code",
   "execution_count": 1,
   "metadata": {},
   "outputs": [],
   "source": [
    "start = time.time()\n",
    "for epoch in range(50000):\n",
    "    J = model.fit(X_trn, y_trn, X_val, y_val, eta = 1, lr = 1e-2, epochs = 1, show_curve = False)\n",
    "    \n",
    "    # calculate trn cost\n",
    "    c_trn, t = min_cost_threshold(X_trn, y_trn, model, step_thresh = 10)\n",
    "    \n",
    "    # calculate val cost\n",
    "    y_hat = model.predict(X_val, t)\n",
    "    val_cm = confusion_matrix(y_val, y_hat).to_numpy()\n",
    "    c_val = val_cm[1,0] * 500 + val_cm[0,1] * 10\n",
    "    \n",
    "    # save loss\n",
    "    J_trn = np.hstack((J_trn, J['J_trn']))\n",
    "    J_val = np.hstack((J_val, J['J_val']))\n",
    "    # save cost\n",
    "    cost_trn = np.hstack((cost_trn, c_trn))\n",
    "    cost_val = np.hstack((cost_val, c_val))\n",
    "    \n",
    "    # print process\n",
    "    if epoch % 100 == 0:\n",
    "        end = time.time() - start\n",
    "        print('EPOCH: {}'.format(epoch))\n",
    "        print('trn loss: {:.4f}, val loss {:.4f}'.format(J_trn[-1], J_val[-1]))\n",
    "        print('trn cost: {:.0f}, val cost {:.0f}'.format(cost_trn[-1], cost_val[-1]))\n",
    "        print('time: {:.0f} s'.format((end)))\n",
    "        print('----------------------------------------')\n",
    "        start = time.time()\n",
    "    if cost_val[-1] < 15000:\n",
    "        print('trn cost: {:.0f}, val cost {:.0f}'.format(cost_trn[-1], cost_val[-1]))\n",
    "        params = np.hstack((model.w, model.b))\n",
    "        np.save('model_basic_logreg_score_'+str(int(cost_val[-1])), params)\n",
    "        print('----------------------------------------')\n",
    "        break"
   ]
  },
  {
   "cell_type": "markdown",
   "metadata": {},
   "source": [
    "**check result**"
   ]
  },
  {
   "cell_type": "code",
   "execution_count": 14,
   "metadata": {},
   "outputs": [
    {
     "name": "stdout",
     "output_type": "stream",
     "text": [
      "min train cost 55120 at threshold value 0.3333\n",
      "test cost: 31400\n"
     ]
    }
   ],
   "source": [
    "# calculate trn cost\n",
    "c_trn, t = min_cost_threshold(X_trn, y_trn, model, step_thresh = 10)\n",
    "# calculate val cost\n",
    "y_hat = model.predict(X_val, t)\n",
    "val_cm = confusion_matrix(y_val, y_hat).to_numpy()\n",
    "c_val = val_cm[1,0] * 500 + val_cm[0,1] * 10\n",
    "print('min train cost {:.0f} at threshold value {:.4f}'.format(c_trn, t))\n",
    "print('test cost: {}'.format(c_val))"
   ]
  },
  {
   "cell_type": "markdown",
   "metadata": {},
   "source": [
    "**plot result**"
   ]
  },
  {
   "cell_type": "code",
   "execution_count": 15,
   "metadata": {},
   "outputs": [
    {
     "data": {
      "text/plain": [
       "Text(0.5, 1.0, 'Loss')"
      ]
     },
     "execution_count": 15,
     "metadata": {},
     "output_type": "execute_result"
    },
    {
     "data": {
      "image/png": "[encoded data removed]",
      "text/plain": [
       "<Figure size 720x432 with 1 Axes>"
      ]
     },
     "metadata": {},
     "output_type": "display_data"
    }
   ],
   "source": [
    "plt.figure(figsize = (10, 6))\n",
    "plt.plot(J_trn[1:])\n",
    "plt.plot(J_val[1:])\n",
    "plt.xlabel('epochs', fontsize = 15)\n",
    "plt.ylabel('loss', fontsize = 15)\n",
    "plt.legend(['J_trn', 'J_val'], fontsize = 20)\n",
    "plt.title('Loss', fontsize = 20)"
   ]
  },
  {
   "cell_type": "code",
   "execution_count": 16,
   "metadata": {},
   "outputs": [
    {
     "data": {
      "text/plain": [
       "Text(0.5, 1.0, 'Cost')"
      ]
     },
     "execution_count": 16,
     "metadata": {},
     "output_type": "execute_result"
    },
    {
     "data": {
      "image/png": "[encoded data removed]",
      "text/plain": [
       "<Figure size 720x432 with 1 Axes>"
      ]
     },
     "metadata": {},
     "output_type": "display_data"
    }
   ],
   "source": [
    "plt.figure(figsize = (10, 6))\n",
    "plt.plot(cost_trn[1:])\n",
    "plt.plot(cost_val[1:])\n",
    "plt.xlabel('epochs', fontsize = 15)\n",
    "plt.ylabel('cost', fontsize = 15)\n",
    "plt.legend(['cost_trn', 'cost_val'], fontsize = 20)\n",
    "plt.title('Cost', fontsize = 20)"
   ]
  },
  {
   "cell_type": "markdown",
   "metadata": {},
   "source": [
    "### Evaluate model with mean, mode and zero"
   ]
  },
  {
   "cell_type": "markdown",
   "metadata": {},
   "source": [
    "**impute test with mean**"
   ]
  },
  {
   "cell_type": "code",
   "execution_count": 18,
   "metadata": {},
   "outputs": [
    {
     "name": "stdout",
     "output_type": "stream",
     "text": [
      "31330\n"
     ]
    }
   ],
   "source": [
    "df_val = test_data_clean_v2('test.csv', df_trn, 'mean')\n",
    "data_val = df_val.to_numpy()\n",
    "X, y = data_val[:, 1:], data_val[:, 0]\n",
    "X = normalizer.fit(X)\n",
    "# calculate val cost\n",
    "y_hat = model.predict(X, t)\n",
    "val_cm = confusion_matrix(y, y_hat).to_numpy()\n",
    "c_val = val_cm[1,0] * 500 + val_cm[0,1] * 10\n",
    "print(c_val)"
   ]
  },
  {
   "cell_type": "markdown",
   "metadata": {},
   "source": [
    "**impute test with mode**"
   ]
  },
  {
   "cell_type": "code",
   "execution_count": 19,
   "metadata": {},
   "outputs": [
    {
     "name": "stdout",
     "output_type": "stream",
     "text": [
      "Nan: 0\n",
      "31380\n"
     ]
    }
   ],
   "source": [
    "df_val = test_data_clean_v2('test.csv', df_trn, 'mode')\n",
    "data_val = df_val.to_numpy()\n",
    "X, y = data_val[:, 1:], data_val[:, 0]\n",
    "X = normalizer.fit(X)\n",
    "# calculate val cost\n",
    "y_hat = model.predict(X, t)\n",
    "val_cm = confusion_matrix(y, y_hat).to_numpy()\n",
    "c_val = val_cm[1,0] * 500 + val_cm[0,1] * 10\n",
    "print(c_val)"
   ]
  },
  {
   "cell_type": "markdown",
   "metadata": {},
   "source": [
    "**impute test with zero**"
   ]
  },
  {
   "cell_type": "code",
   "execution_count": 20,
   "metadata": {},
   "outputs": [
    {
     "name": "stdout",
     "output_type": "stream",
     "text": [
      "31810\n"
     ]
    }
   ],
   "source": [
    "df_val = test_data_clean_v2('test.csv', df_trn, None)\n",
    "data_val = df_val.to_numpy()\n",
    "X, y = data_val[:, 1:], data_val[:, 0]\n",
    "X = normalizer.fit(X)\n",
    "# calculate val cost\n",
    "y_hat = model.predict(X, t)\n",
    "val_cm = confusion_matrix(y, y_hat).to_numpy()\n",
    "c_val = val_cm[1,0] * 500 + val_cm[0,1] * 10\n",
    "print(c_val)"
   ]
  },
  {
   "cell_type": "code",
   "execution_count": null,
   "metadata": {},
   "outputs": [],
   "source": []
  }
 ],
 "metadata": {
  "kernelspec": {
   "display_name": "Python 3",
   "language": "python",
   "name": "python3"
  },
  "language_info": {
   "codemirror_mode": {
    "name": "ipython",
    "version": 3
   },
   "file_extension": ".py",
   "mimetype": "text/x-python",
   "name": "python",
   "nbconvert_exporter": "python",
   "pygments_lexer": "ipython3",
   "version": "3.7.6"
  }
 },
 "nbformat": 4,
 "nbformat_minor": 4
}
